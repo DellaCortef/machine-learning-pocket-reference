{
 "cells": [
  {
   "cell_type": "markdown",
   "id": "aa657065",
   "metadata": {},
   "source": [
    "# References\n",
    "\n",
    "---> github of the book\n",
    "\n",
    "- https://github.com/mattharrison/ml_pocket_reference/blob/master/README.md\n",
    "\n",
    "\n",
    "---> titanic dataset\n",
    "\n",
    "- https://www.kaggle.com/datasets/pavlofesenko/titanic-extended\n",
    "\n",
    "\n",
    "---> profiling report generate\n",
    "\n",
    "- https://pypi.org/project/pandas-profiling/\n",
    "\n",
    "- https://www.datacamp.com/tutorial/pandas-profiling-ydata-profiling-in-python-guide?utm_source=google&utm_medium=paid_search&utm_campaignid=19589720821&utm_adgroupid=157156375191&utm_device=c&utm_keyword=&utm_matchtype=&utm_network=g&utm_adpostion=&utm_creative=684592139660&utm_targetid=dsa-2218886984100&utm_loc_interest_ms=&utm_loc_physical_ms=9195805&utm_content=&utm_campaign=230119_1-sea~dsa~tofu_2-b2c_3-row-p1_4-prc_5-na_6-na_7-le_8-pdsh-go_9-nb-e_10-na_11-na&gad_source=1&gclid=Cj0KCQjw1qO0BhDwARIsANfnkv8f3WGwNAMIiaXow_xsZxWGqxJSKMFjfcx82J-C3VKQyOZu-TBQr8YaAs8rEALw_wcB\n",
    "\n",
    "\n",
    "---> Markdown for Jupyter notebooks cheatsheet\n",
    "\n",
    "- https://www.ibm.com/docs/en/db2-event-store/2.0.0?topic=notebooks-markdown-jupyter-cheatsheet\n",
    "\n",
    "\n",
    "---> pandas documentation:\n",
    "- https://pandas.pydata.org/pandas-docs/stable/reference/api/pandas.DataFrame.drop.html\n",
    "- https://pandas.pydata.org/docs/reference/api/pandas.DataFrame.fillna.html\n",
    "- https://pandas.pydata.org/docs/reference/api/pandas.get_dummies.html\n",
    "\n",
    "---> pyjanitor documentation:\n",
    "- https://pyjanitor-devs.github.io/pyjanitor/\n",
    "- https://pyjanitor-devs.github.io/pyjanitor/api/functions/\n",
    "\n",
    "\n",
    "---> scikit-learn documentation:\n",
    "- https://scikit-learn.org/stable/modules/generated/sklearn.model_selection.train_test_split.html\n",
    "- https://scikit-learn.org/stable/modules/model_evaluation.html\n",
    "- https://scikit-learn.org/stable/modules/generated/sklearn.metrics.precision_score.html\n",
    "- https://scikit-learn.org/stable/modules/generated/sklearn.impute.SimpleImputer.html\n",
    "- https://scikit-learn.org/stable/modules/generated/sklearn.preprocessing.StandardScaler.html\n",
    "- https://scikit-learn.org/stable/modules/generated/sklearn.preprocessing.MinMaxScaler.html\n",
    "- https://scikit-learn.org/stable/modules/generated/sklearn.tree.plot_tree.html\n",
    "\n",
    "\n",
    "---> yellowbrick documentation:\n",
    "- https://www.scikit-yb.org/en/latest/api/classifier/confusion_matrix.html\n",
    "- https://www.scikit-yb.org/en/latest/api/model_selection/importances.html\n",
    "- https://www.scikit-yb.org/en/latest/api/model_selection/learning_curve.html\n",
    "\n",
    "---> dummies features documentation\n",
    "- https://www.alura.com.br/artigos/get-dummies-vs-onehotencoder-qual-metodo-escolher?utm_term=&utm_campaign=%5BSearch%5D+%5BPerformance%5D+-+Dynamic+Search+Ads+-+Artigos+e+Conteúdos&utm_source=adwords&utm_medium=ppc&hsa_acc=7964138385&hsa_cam=11384329873&hsa_grp=164212380672&hsa_ad=703934981513&hsa_src=g&hsa_tgt=dsa-425656816943&hsa_kw=&hsa_mt=&hsa_net=adwords&hsa_ver=3&gad_source=1&gbraid=0AAAAADpqZIB4GGlCHwUXZ3dZ6bYv0A8yY&gclid=CjwKCAjw74e1BhBnEiwAbqOAjM_scUcj5Rsg6zr0qhcMgjS5VPLCFtQlGiY9MJ-5zEqlSuhxDoqnpRoCWg8QAvD_BwE\n",
    "\n",
    "---> oReilly documentation:\n",
    "- https://stats.oarc.ucla.edu/r/library/r-library-contrast-coding-systems-for-categorical-variables/"
   ]
  },
  {
   "cell_type": "code",
   "execution_count": null,
   "id": "c2fac9c5",
   "metadata": {},
   "outputs": [],
   "source": []
  }
 ],
 "metadata": {
  "kernelspec": {
   "display_name": "Python 3 (ipykernel)",
   "language": "python",
   "name": "python3"
  },
  "language_info": {
   "codemirror_mode": {
    "name": "ipython",
    "version": 3
   },
   "file_extension": ".py",
   "mimetype": "text/x-python",
   "name": "python",
   "nbconvert_exporter": "python",
   "pygments_lexer": "ipython3",
   "version": "3.9.13"
  }
 },
 "nbformat": 4,
 "nbformat_minor": 5
}
